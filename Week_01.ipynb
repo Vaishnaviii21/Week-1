{
  "nbformat": 4,
  "nbformat_minor": 0,
  "metadata": {
    "colab": {
      "provenance": [],
      "collapsed_sections": [],
      "authorship_tag": "ABX9TyN8bwUED5+eZ4gzMPEehxOd",
      "include_colab_link": true
    },
    "kernelspec": {
      "name": "python3",
      "display_name": "Python 3"
    },
    "language_info": {
      "name": "python"
    }
  },
  "cells": [
    {
      "cell_type": "markdown",
      "metadata": {
        "id": "view-in-github",
        "colab_type": "text"
      },
      "source": [
        "<a href=\"https://colab.research.google.com/github/Vaishnaviii21/Week-1/blob/main/Week_01.ipynb\" target=\"_parent\"><img src=\"https://colab.research.google.com/assets/colab-badge.svg\" alt=\"Open In Colab\"/></a>"
      ]
    },
    {
      "cell_type": "markdown",
      "source": [
        "Section A"
      ],
      "metadata": {
        "id": "Tc-UahNsYwf1"
      }
    },
    {
      "cell_type": "code",
      "execution_count": null,
      "metadata": {
        "colab": {
          "base_uri": "https://localhost:8080/"
        },
        "id": "W7LkFeGSLnvt",
        "outputId": "4cfd79f0-18be-4e6e-ba24-461a4ec63ed1"
      },
      "outputs": [
        {
          "output_type": "stream",
          "name": "stdout",
          "text": [
            "Hello Python\n"
          ]
        }
      ],
      "source": [
        "#Q1)Write a python program to print \"Hello Python\"\n",
        "\n",
        "a=str(\"Hello Python\")\n",
        "print(a)"
      ]
    },
    {
      "cell_type": "code",
      "source": [
        "#Q2)Write a python program to do arithmetical operations addition and division?\n",
        "\n",
        "a=15\n",
        "b=5\n",
        "print(a+b)\n",
        "print(a/b)"
      ],
      "metadata": {
        "colab": {
          "base_uri": "https://localhost:8080/"
        },
        "id": "95Sw7fPiRmBU",
        "outputId": "9ecda0fb-ce92-4622-d482-49f3f2b27f91"
      },
      "execution_count": null,
      "outputs": [
        {
          "output_type": "stream",
          "name": "stdout",
          "text": [
            "20\n",
            "3.0\n"
          ]
        }
      ]
    },
    {
      "cell_type": "code",
      "source": [
        "#Q3)Write a python program to find the area of a triangle?\n",
        "\n",
        "base = float(input(\"Enter a base: \"))\n",
        "height = float(input(\"Enter the height: \"))\n",
        "Area = 0.5*base*height\n",
        "print(\"Area of Triangle: \",Area)\n",
        "\n"
      ],
      "metadata": {
        "colab": {
          "base_uri": "https://localhost:8080/"
        },
        "id": "-nJR9HPnS5v0",
        "outputId": "1de9f5b4-0ea7-4e96-af92-aeb640408994"
      },
      "execution_count": null,
      "outputs": [
        {
          "output_type": "stream",
          "name": "stdout",
          "text": [
            "Enter a base: 10\n",
            "Enter the height: 5\n",
            "Area of Triangle:  25.0\n"
          ]
        }
      ]
    },
    {
      "cell_type": "code",
      "source": [
        "#Q4)Write a python program to swap two variables?\n",
        "\n",
        "a=\"Vaishnavi\"\n",
        "b=\"Shrikhande\"\n",
        "print(\"a before swapping: \",a,\"b before swapping: \",b)\n",
        "c=a\n",
        "a=b\n",
        "b=c\n",
        "print(\"a after swapping: \",a,\"b after swapping: \",b)"
      ],
      "metadata": {
        "colab": {
          "base_uri": "https://localhost:8080/"
        },
        "id": "0AAXBZALU-z2",
        "outputId": "778fca54-b5e5-4253-e54a-0c6fe34002dc"
      },
      "execution_count": null,
      "outputs": [
        {
          "output_type": "stream",
          "name": "stdout",
          "text": [
            "a before swapping:  Vaishnavi b before swapping:  Shrikhande\n",
            "a after swapping:  Shrikhande b after swapping:  Vaishnavi\n"
          ]
        }
      ]
    },
    {
      "cell_type": "code",
      "source": [
        "#Q5)Write a python program to generate a random number?\n",
        "\n",
        "import random\n",
        "a=random.randrange(1,20)\n",
        "print(a)"
      ],
      "metadata": {
        "colab": {
          "base_uri": "https://localhost:8080/"
        },
        "id": "C8qH6EpeXN6c",
        "outputId": "4a4cbbd3-fd8e-4ca9-9ef5-d3f507c7eda3"
      },
      "execution_count": null,
      "outputs": [
        {
          "output_type": "stream",
          "name": "stdout",
          "text": [
            "17\n"
          ]
        }
      ]
    },
    {
      "cell_type": "markdown",
      "source": [
        "Section B"
      ],
      "metadata": {
        "id": "YPIlkq0pY1WE"
      }
    },
    {
      "cell_type": "code",
      "source": [
        "#Q1)Write a python program to convert kilometers to miles?\n",
        "\n",
        "KM = int(input(\"Enter Kilometer value:\"))\n",
        "miles = 0.621* KM\n",
        "print(KM ,\" km = \",miles ,'miles')"
      ],
      "metadata": {
        "colab": {
          "base_uri": "https://localhost:8080/"
        },
        "id": "nGbvsyCWY3Tl",
        "outputId": "1a743e41-b27e-4496-a5cb-d1359d8a48fd"
      },
      "execution_count": null,
      "outputs": [
        {
          "output_type": "stream",
          "name": "stdout",
          "text": [
            "Enter Kilometer value:20\n",
            "20  km =  12.42 miles\n"
          ]
        }
      ]
    },
    {
      "cell_type": "code",
      "source": [
        "#Q2)Write a python program to convert Celsius to Fahrenheit?\n",
        "\n",
        "Celsius = float(input(\"Enter celsius value:\"))\n",
        "Fahrenhiet = (Celsius*1.8)+32\n",
        "print(Celsius,\" °C =\",Fahrenhiet,\"℉\")\n",
        "\n"
      ],
      "metadata": {
        "id": "grs46GpEZzS0",
        "colab": {
          "base_uri": "https://localhost:8080/"
        },
        "outputId": "df206296-b0e6-4add-9488-1dd83123d019"
      },
      "execution_count": null,
      "outputs": [
        {
          "output_type": "stream",
          "name": "stdout",
          "text": [
            "Enter celsius value:28\n",
            "28.0  °C = 82.4 ℉\n"
          ]
        }
      ]
    },
    {
      "cell_type": "code",
      "source": [
        "#Q3)Write a python program to display calender?\n",
        "\n",
        "import calendar\n",
        "yy = 2022\n",
        "mm = 9 #month\n",
        "print(calendar.month(yy,mm))"
      ],
      "metadata": {
        "colab": {
          "base_uri": "https://localhost:8080/"
        },
        "id": "dBtOORf6pAJ6",
        "outputId": "7fec89b2-1769-4f27-dc21-fd5d55550e82"
      },
      "execution_count": null,
      "outputs": [
        {
          "output_type": "stream",
          "name": "stdout",
          "text": [
            "   September 2022\n",
            "Mo Tu We Th Fr Sa Su\n",
            "          1  2  3  4\n",
            " 5  6  7  8  9 10 11\n",
            "12 13 14 15 16 17 18\n",
            "19 20 21 22 23 24 25\n",
            "26 27 28 29 30\n",
            "\n"
          ]
        }
      ]
    },
    {
      "cell_type": "code",
      "source": [
        "#Q4)Write a python program to solve quadratic equation?\n",
        "\n"
      ],
      "metadata": {
        "id": "xd_-AnvsqqBw"
      },
      "execution_count": null,
      "outputs": []
    },
    {
      "cell_type": "code",
      "source": [
        "#Q5)Write a python program to swap two variables without temp variables?\n",
        "\n",
        "x = 8\n",
        "y = 16\n",
        "temp = x\n",
        "x = y\n",
        "y = temp\n",
        "print('The value of x after swapping: {}'.format(x))\n",
        "print('The value of y after swapping: {}'.format(y))"
      ],
      "metadata": {
        "colab": {
          "base_uri": "https://localhost:8080/"
        },
        "id": "3M0C6Ae13wrP",
        "outputId": "57fc2350-f878-42cd-a5cc-f949b7ef89e6"
      },
      "execution_count": null,
      "outputs": [
        {
          "output_type": "stream",
          "name": "stdout",
          "text": [
            "The value of x after swapping: 16\n",
            "The value of y after swapping: 8\n"
          ]
        }
      ]
    },
    {
      "cell_type": "markdown",
      "source": [
        "Section C"
      ],
      "metadata": {
        "id": "NQeoZCIZJAw4"
      }
    },
    {
      "cell_type": "code",
      "source": [
        "#Q1)Write a python program to check if a number is positive, negative or zero?\n",
        "\n",
        "num = float(input(\"Enter a number: \"))\n",
        "if num >= 0:\n",
        "   if num == 0:\n",
        "       print(\"Zero\")\n",
        "   else:\n",
        "       print(\"Positive number\")\n",
        "else:\n",
        "   print(\"Negative number\")"
      ],
      "metadata": {
        "colab": {
          "base_uri": "https://localhost:8080/"
        },
        "id": "ncL8e_I6JClC",
        "outputId": "908a491a-8dba-49ea-95a2-036abc25d13a"
      },
      "execution_count": null,
      "outputs": [
        {
          "output_type": "stream",
          "name": "stdout",
          "text": [
            "Enter a number: 6\n",
            "Positive number\n"
          ]
        }
      ]
    },
    {
      "cell_type": "code",
      "source": [
        "#Q2)Write a Python Program to Check if a Number is Odd or Even?\n",
        "\n",
        "num = int(input(\"Enter a number: \"))\n",
        "if (num % 2) == 0:\n",
        "   print(\"{0} is Even\".format(num))\n",
        "else:\n",
        "   print(\"{0} is Odd\".format(num))"
      ],
      "metadata": {
        "id": "n0Uv0frhJUVl",
        "colab": {
          "base_uri": "https://localhost:8080/"
        },
        "outputId": "f904958a-8e57-4870-908f-a624618d8130"
      },
      "execution_count": null,
      "outputs": [
        {
          "output_type": "stream",
          "name": "stdout",
          "text": [
            "Enter a number: 55\n",
            "55 is Odd\n"
          ]
        }
      ]
    },
    {
      "cell_type": "code",
      "source": [
        "#Q3) Write a Python Program to Check Leap Year?"
      ],
      "metadata": {
        "id": "54hCI7MVL9Jv"
      },
      "execution_count": null,
      "outputs": []
    },
    {
      "cell_type": "code",
      "source": [
        "#Q4)Write a Python Program to Check Prime number?\n",
        "\n",
        "num = int(input(\"Enter a number: \"))\n",
        "python = False\n",
        "if num > 1:\n",
        "  for i in range(2, num):\n",
        "        if (num % i) == 0:\n",
        "            python = True\n",
        "            break\n",
        "\n",
        "if python:\n",
        "    print(num, \"is not a prime number\")\n",
        "else:\n",
        "    print(num, \"is a prime number\")\n"
      ],
      "metadata": {
        "colab": {
          "base_uri": "https://localhost:8080/"
        },
        "id": "QBFNSraxD_QA",
        "outputId": "8d358b16-5fbb-4ecc-c2a5-ec6a76b4d8cc"
      },
      "execution_count": null,
      "outputs": [
        {
          "output_type": "stream",
          "name": "stdout",
          "text": [
            "Enter a number: 55\n",
            "55 is not a prime number\n"
          ]
        }
      ]
    },
    {
      "cell_type": "code",
      "source": [
        "#Q5)Write a python program to print all prime number in an Interval of 1-10000?\n",
        "\n",
        "lower = 1\n",
        "upper = 10000\n",
        "\n",
        "print(\"Prime numbers between\", lower, \"and\", upper, \"are:\")\n",
        "\n",
        "for num in range(lower, upper + 1):\n",
        "  if num > 1:\n",
        "       for i in range(2, num):\n",
        "           if (num % i) == 0:\n",
        "               break\n",
        "       else:\n",
        "           print(num)\n"
      ],
      "metadata": {
        "id": "Y7GUeFCWFolU"
      },
      "execution_count": null,
      "outputs": []
    },
    {
      "cell_type": "markdown",
      "source": [
        "Section D"
      ],
      "metadata": {
        "id": "sdiluHF6HBRO"
      }
    },
    {
      "cell_type": "code",
      "source": [
        "#Q1)Write a Python program to find the Fractional of a Number?\n",
        "\n"
      ],
      "metadata": {
        "id": "ExKHQw_3HDvd"
      },
      "execution_count": null,
      "outputs": []
    },
    {
      "cell_type": "code",
      "source": [
        "#Q2)Write a python program to display the multplication table?\n",
        "\n",
        "num = 8\n",
        "for i in range (1,11): \n",
        "  print(num, 'x', i,'=',num*i)"
      ],
      "metadata": {
        "colab": {
          "base_uri": "https://localhost:8080/"
        },
        "id": "g4kaCk7jtdd_",
        "outputId": "3ffce667-1b44-4f6e-9841-d4b2c9645a9a"
      },
      "execution_count": null,
      "outputs": [
        {
          "output_type": "stream",
          "name": "stdout",
          "text": [
            "8 x 1 = 8\n",
            "8 x 2 = 16\n",
            "8 x 3 = 24\n",
            "8 x 4 = 32\n",
            "8 x 5 = 40\n",
            "8 x 6 = 48\n",
            "8 x 7 = 56\n",
            "8 x 8 = 64\n",
            "8 x 9 = 72\n",
            "8 x 10 = 80\n"
          ]
        }
      ]
    },
    {
      "cell_type": "code",
      "source": [
        "#Q3)Wite a python program to print the Fibonacci sequence?\n",
        "\n",
        "n_1 = 0\n",
        "n_2 = 1\n",
        "count = 0\n",
        "n_terms = int(input())\n",
        "\n",
        "\n",
        "if n_terms <= 0:\n",
        "  print(\"Please enter a positive integer , the given number is not valid\")\n",
        "\n",
        "elif n_terms == 1:\n",
        "  print(\"The Fibonacci sequence of the number up to\", n_terms, \": \")\n",
        "  print(n_1)\n",
        "\n",
        "else:\n",
        "    print (\"The fibonacci sequence of the number is:\")\n",
        "    while count < n_terms:\n",
        "\n",
        "      nth = n_1 + n_2\n",
        "\n",
        "      n_1 = n_2\n",
        "      n_2 = nth\n",
        "      count= count + 1\n",
        "      print(nth)"
      ],
      "metadata": {
        "colab": {
          "base_uri": "https://localhost:8080/"
        },
        "id": "8Z8u_cIDumdV",
        "outputId": "11f2d3cd-6511-4847-c84e-a52aaea4f595"
      },
      "execution_count": null,
      "outputs": [
        {
          "output_type": "stream",
          "name": "stdout",
          "text": [
            "4\n",
            "The fibonacci sequence of the number is:\n",
            "1\n",
            "2\n",
            "3\n",
            "5\n"
          ]
        }
      ]
    },
    {
      "cell_type": "code",
      "source": [
        "#Q4)Write a python program to check Armstrong Number?\n",
        "\n",
        "num = int(input(\"Enter a number: \"))\n",
        "sum=0\n",
        "temp = num\n",
        "while temp > 0:\n",
        "   digit = temp % 10\n",
        "   sum += digit ** 3\n",
        "   temp //= 10\n",
        "if num == sum:\n",
        "   print(num,\"is an Armstrong number\")\n",
        "else:\n",
        "   print(num,\"is not an Armstrong number\")\n",
        "\n"
      ],
      "metadata": {
        "colab": {
          "base_uri": "https://localhost:8080/"
        },
        "id": "_9AcEs-Gumak",
        "outputId": "1e38eb34-bad9-4e0b-9181-ffd459a5a6c9"
      },
      "execution_count": null,
      "outputs": [
        {
          "output_type": "stream",
          "name": "stdout",
          "text": [
            "Enter a number: 559\n",
            "559 is not an Armstrong number\n"
          ]
        }
      ]
    },
    {
      "cell_type": "code",
      "source": [],
      "metadata": {
        "id": "sTrn7bVfw9f9"
      },
      "execution_count": null,
      "outputs": []
    }
  ]
}