{
  "nbformat": 4,
  "nbformat_minor": 0,
  "metadata": {
    "colab": {
      "provenance": [],
      "collapsed_sections": [],
      "authorship_tag": "ABX9TyPP91DBOpOhUZtxStHhV0kj",
      "include_colab_link": true
    },
    "kernelspec": {
      "name": "python3",
      "display_name": "Python 3"
    },
    "language_info": {
      "name": "python"
    }
  },
  "cells": [
    {
      "cell_type": "markdown",
      "metadata": {
        "id": "view-in-github",
        "colab_type": "text"
      },
      "source": [
        "<a href=\"https://colab.research.google.com/github/Vaishnaviii21/Week-1/blob/main/Week_01.ipynb\" target=\"_parent\"><img src=\"https://colab.research.google.com/assets/colab-badge.svg\" alt=\"Open In Colab\"/></a>"
      ]
    },
    {
      "cell_type": "markdown",
      "source": [
        "Section A"
      ],
      "metadata": {
        "id": "Tc-UahNsYwf1"
      }
    },
    {
      "cell_type": "code",
      "execution_count": null,
      "metadata": {
        "colab": {
          "base_uri": "https://localhost:8080/"
        },
        "id": "W7LkFeGSLnvt",
        "outputId": "4cfd79f0-18be-4e6e-ba24-461a4ec63ed1"
      },
      "outputs": [
        {
          "output_type": "stream",
          "name": "stdout",
          "text": [
            "Hello Python\n"
          ]
        }
      ],
      "source": [
        "#Q1)Write a python program to print \"Hello Python\"\n",
        "\n",
        "a=str(\"Hello Python\")\n",
        "print(a)"
      ]
    },
    {
      "cell_type": "code",
      "source": [
        "#Q2)Write a python program to do arithmetical operations addition and division?\n",
        "\n",
        "a=15\n",
        "b=5\n",
        "print(a+b)\n",
        "print(a/b)"
      ],
      "metadata": {
        "colab": {
          "base_uri": "https://localhost:8080/"
        },
        "id": "95Sw7fPiRmBU",
        "outputId": "9ecda0fb-ce92-4622-d482-49f3f2b27f91"
      },
      "execution_count": null,
      "outputs": [
        {
          "output_type": "stream",
          "name": "stdout",
          "text": [
            "20\n",
            "3.0\n"
          ]
        }
      ]
    },
    {
      "cell_type": "code",
      "source": [
        "#Q3)Write a python program to find the area of a triangle?\n",
        "\n",
        "base = float(input(\"Enter a base: \"))\n",
        "height = float(input(\"Enter the height: \"))\n",
        "Area = 0.5*base*height\n",
        "print(\"Area of Triangle: \",Area)\n",
        "\n"
      ],
      "metadata": {
        "colab": {
          "base_uri": "https://localhost:8080/"
        },
        "id": "-nJR9HPnS5v0",
        "outputId": "1de9f5b4-0ea7-4e96-af92-aeb640408994"
      },
      "execution_count": null,
      "outputs": [
        {
          "output_type": "stream",
          "name": "stdout",
          "text": [
            "Enter a base: 10\n",
            "Enter the height: 5\n",
            "Area of Triangle:  25.0\n"
          ]
        }
      ]
    },
    {
      "cell_type": "code",
      "source": [
        "#Q4)Write a python program to swap two variables?\n",
        "\n",
        "a=\"Vaishnavi\"\n",
        "b=\"Shrikhande\"\n",
        "print(\"a before swapping: \",a,\"b before swapping: \",b)\n",
        "c=a\n",
        "a=b\n",
        "b=c\n",
        "print(\"a after swapping: \",a,\"b after swapping: \",b)"
      ],
      "metadata": {
        "colab": {
          "base_uri": "https://localhost:8080/"
        },
        "id": "0AAXBZALU-z2",
        "outputId": "778fca54-b5e5-4253-e54a-0c6fe34002dc"
      },
      "execution_count": null,
      "outputs": [
        {
          "output_type": "stream",
          "name": "stdout",
          "text": [
            "a before swapping:  Vaishnavi b before swapping:  Shrikhande\n",
            "a after swapping:  Shrikhande b after swapping:  Vaishnavi\n"
          ]
        }
      ]
    },
    {
      "cell_type": "code",
      "source": [
        "#Q5)Write a python program to generate a random number?\n",
        "\n",
        "import random\n",
        "a=random.randrange(1,20)\n",
        "print(a)"
      ],
      "metadata": {
        "colab": {
          "base_uri": "https://localhost:8080/"
        },
        "id": "C8qH6EpeXN6c",
        "outputId": "4a4cbbd3-fd8e-4ca9-9ef5-d3f507c7eda3"
      },
      "execution_count": null,
      "outputs": [
        {
          "output_type": "stream",
          "name": "stdout",
          "text": [
            "17\n"
          ]
        }
      ]
    },
    {
      "cell_type": "markdown",
      "source": [
        "Section B"
      ],
      "metadata": {
        "id": "YPIlkq0pY1WE"
      }
    },
    {
      "cell_type": "code",
      "source": [
        "#Q1)Write a python program to convert kilometers to miles?\n",
        "\n",
        "KM = int(input(\"Enter Kilometer value:\"))\n",
        "miles = 0.621* KM\n",
        "print(KM ,\" km = \",miles ,'miles')"
      ],
      "metadata": {
        "colab": {
          "base_uri": "https://localhost:8080/"
        },
        "id": "nGbvsyCWY3Tl",
        "outputId": "1a743e41-b27e-4496-a5cb-d1359d8a48fd"
      },
      "execution_count": null,
      "outputs": [
        {
          "output_type": "stream",
          "name": "stdout",
          "text": [
            "Enter Kilometer value:20\n",
            "20  km =  12.42 miles\n"
          ]
        }
      ]
    },
    {
      "cell_type": "code",
      "source": [
        "#Q2)Write a python program to convert Celsius to Fahrenheit?\n",
        "\n",
        "Celsius = float(input(\"Enter celsius value:\"))\n",
        "Fahrenhiet = (Celsius*1.8)+32\n",
        "print(Celsius,\" °C =\",Fahrenhiet,\"℉\")\n",
        "\n"
      ],
      "metadata": {
        "id": "grs46GpEZzS0",
        "colab": {
          "base_uri": "https://localhost:8080/"
        },
        "outputId": "df206296-b0e6-4add-9488-1dd83123d019"
      },
      "execution_count": null,
      "outputs": [
        {
          "output_type": "stream",
          "name": "stdout",
          "text": [
            "Enter celsius value:28\n",
            "28.0  °C = 82.4 ℉\n"
          ]
        }
      ]
    },
    {
      "cell_type": "code",
      "source": [
        "#Q3)Write a python program to display calender?\n",
        "\n",
        "import calendar\n",
        "yy = 2022\n",
        "mm = 9 #month\n",
        "print(calendar.month(yy,mm))"
      ],
      "metadata": {
        "colab": {
          "base_uri": "https://localhost:8080/"
        },
        "id": "dBtOORf6pAJ6",
        "outputId": "7fec89b2-1769-4f27-dc21-fd5d55550e82"
      },
      "execution_count": null,
      "outputs": [
        {
          "output_type": "stream",
          "name": "stdout",
          "text": [
            "   September 2022\n",
            "Mo Tu We Th Fr Sa Su\n",
            "          1  2  3  4\n",
            " 5  6  7  8  9 10 11\n",
            "12 13 14 15 16 17 18\n",
            "19 20 21 22 23 24 25\n",
            "26 27 28 29 30\n",
            "\n"
          ]
        }
      ]
    },
    {
      "cell_type": "code",
      "source": [
        "#Q4)Write a python program to solve quadratic equation?\n",
        "\n"
      ],
      "metadata": {
        "id": "xd_-AnvsqqBw"
      },
      "execution_count": null,
      "outputs": []
    },
    {
      "cell_type": "code",
      "source": [
        "#Q5)Write a python program to swap two variables without temp variables?\n",
        "\n",
        "x = 8\n",
        "y = 16\n",
        "temp = x\n",
        "x = y\n",
        "y = temp\n",
        "print('The value of x after swapping: {}'.format(x))\n",
        "print('The value of y after swapping: {}'.format(y))"
      ],
      "metadata": {
        "colab": {
          "base_uri": "https://localhost:8080/"
        },
        "id": "3M0C6Ae13wrP",
        "outputId": "57fc2350-f878-42cd-a5cc-f949b7ef89e6"
      },
      "execution_count": null,
      "outputs": [
        {
          "output_type": "stream",
          "name": "stdout",
          "text": [
            "The value of x after swapping: 16\n",
            "The value of y after swapping: 8\n"
          ]
        }
      ]
    },
    {
      "cell_type": "markdown",
      "source": [
        "Section C"
      ],
      "metadata": {
        "id": "NQeoZCIZJAw4"
      }
    },
    {
      "cell_type": "code",
      "source": [
        "#Q1)Write a python program to check if a number is positive, negative or zero?\n",
        "\n",
        "num = float(input(\"Enter a number: \"))\n",
        "if num >= 0:\n",
        "   if num == 0:\n",
        "       print(\"Zero\")\n",
        "   else:\n",
        "       print(\"Positive number\")\n",
        "else:\n",
        "   print(\"Negative number\")"
      ],
      "metadata": {
        "colab": {
          "base_uri": "https://localhost:8080/"
        },
        "id": "ncL8e_I6JClC",
        "outputId": "908a491a-8dba-49ea-95a2-036abc25d13a"
      },
      "execution_count": null,
      "outputs": [
        {
          "output_type": "stream",
          "name": "stdout",
          "text": [
            "Enter a number: 6\n",
            "Positive number\n"
          ]
        }
      ]
    },
    {
      "cell_type": "code",
      "source": [
        "#Q2)Write a Python Program to Check if a Number is Odd or Even?\n",
        "\n",
        "num = int(input(\"Enter a number: \"))\n",
        "if (num % 2) == 0:\n",
        "   print(\"{0} is Even\".format(num))\n",
        "else:\n",
        "   print(\"{0} is Odd\".format(num))"
      ],
      "metadata": {
        "id": "n0Uv0frhJUVl",
        "colab": {
          "base_uri": "https://localhost:8080/"
        },
        "outputId": "f904958a-8e57-4870-908f-a624618d8130"
      },
      "execution_count": null,
      "outputs": [
        {
          "output_type": "stream",
          "name": "stdout",
          "text": [
            "Enter a number: 55\n",
            "55 is Odd\n"
          ]
        }
      ]
    },
    {
      "cell_type": "code",
      "source": [
        "#Q3) Write a Python Program to Check Leap Year?"
      ],
      "metadata": {
        "id": "54hCI7MVL9Jv"
      },
      "execution_count": null,
      "outputs": []
    },
    {
      "cell_type": "code",
      "source": [
        "#Q4)Write a Python Program to Check Prime number?\n",
        "\n",
        "num = int(input(\"Enter a number: \"))\n",
        "python = False\n",
        "if num > 1:\n",
        "  for i in range(2, num):\n",
        "        if (num % i) == 0:\n",
        "            python = True\n",
        "            break\n",
        "\n",
        "if python:\n",
        "    print(num, \"is not a prime number\")\n",
        "else:\n",
        "    print(num, \"is a prime number\")\n"
      ],
      "metadata": {
        "colab": {
          "base_uri": "https://localhost:8080/"
        },
        "id": "QBFNSraxD_QA",
        "outputId": "8d358b16-5fbb-4ecc-c2a5-ec6a76b4d8cc"
      },
      "execution_count": null,
      "outputs": [
        {
          "output_type": "stream",
          "name": "stdout",
          "text": [
            "Enter a number: 55\n",
            "55 is not a prime number\n"
          ]
        }
      ]
    },
    {
      "cell_type": "code",
      "source": [
        "#Q5)Write a python program to print all prime number in an Interval of 1-10000?\n",
        "\n",
        "lower = 1\n",
        "upper = 10000\n",
        "\n",
        "print(\"Prime numbers between\", lower, \"and\", upper, \"are:\")\n",
        "\n",
        "for num in range(lower, upper + 1):\n",
        "  if num > 1:\n",
        "       for i in range(2, num):\n",
        "           if (num % i) == 0:\n",
        "               break\n",
        "       else:\n",
        "           print(num)\n"
      ],
      "metadata": {
        "id": "Y7GUeFCWFolU"
      },
      "execution_count": null,
      "outputs": []
    },
    {
      "cell_type": "markdown",
      "source": [
        "Section D"
      ],
      "metadata": {
        "id": "sdiluHF6HBRO"
      }
    },
    {
      "cell_type": "code",
      "source": [
        "#Q1)Write a Python program to find the Fractional of a Number?\n",
        "\n"
      ],
      "metadata": {
        "id": "ExKHQw_3HDvd"
      },
      "execution_count": null,
      "outputs": []
    },
    {
      "cell_type": "code",
      "source": [
        "#Q2)Write a python program to display the multplication table?\n",
        "\n",
        "num = 6\n",
        "for i in range (1,11): \n",
        "  print(num, 'x', i,'=',num*i)"
      ],
      "metadata": {
        "colab": {
          "base_uri": "https://localhost:8080/"
        },
        "id": "g4kaCk7jtdd_",
        "outputId": "c22f5c4a-1c10-44df-e498-d48160db3d1d"
      },
      "execution_count": null,
      "outputs": [
        {
          "output_type": "stream",
          "name": "stdout",
          "text": [
            "6 x 1 = 6\n",
            "6 x 2 = 12\n",
            "6 x 3 = 18\n",
            "6 x 4 = 24\n",
            "6 x 5 = 30\n",
            "6 x 6 = 36\n",
            "6 x 7 = 42\n",
            "6 x 8 = 48\n",
            "6 x 9 = 54\n",
            "6 x 10 = 60\n"
          ]
        }
      ]
    },
    {
      "cell_type": "code",
      "source": [
        "#Q3)Wite a python program to print the Fibonacci sequence?\n",
        "\n",
        "n_1 = 0\n",
        "n_2 = 1\n",
        "count = 0\n",
        "n_terms = int(input())\n",
        "\n",
        "\n",
        "if n_terms <= 0:\n",
        "  print(\"Please enter a positive integer , the given number is not valid\")\n",
        "\n",
        "elif n_terms == 1:\n",
        "  print(\"The Fibonacci sequence of the number up to\", n_terms, \": \")\n",
        "  print(n_1)\n",
        "\n",
        "else:\n",
        "    print (\"The fibonacci sequence of the number is:\")\n",
        "    while count < n_terms:\n",
        "\n",
        "      nth = n_1 + n_2\n",
        "\n",
        "      n_1 = n_2\n",
        "      n_2 = nth\n",
        "      count= count + 1\n",
        "      print(nth)"
      ],
      "metadata": {
        "colab": {
          "base_uri": "https://localhost:8080/"
        },
        "id": "8Z8u_cIDumdV",
        "outputId": "11f2d3cd-6511-4847-c84e-a52aaea4f595"
      },
      "execution_count": null,
      "outputs": [
        {
          "output_type": "stream",
          "name": "stdout",
          "text": [
            "4\n",
            "The fibonacci sequence of the number is:\n",
            "1\n",
            "2\n",
            "3\n",
            "5\n"
          ]
        }
      ]
    },
    {
      "cell_type": "code",
      "source": [
        "#Q4)Write a python program to check Armstrong Number?\n",
        "\n",
        "num = int(input(\"Enter a number: \"))\n",
        "sum=0\n",
        "temp = num\n",
        "while temp > 0:\n",
        "   digit = temp % 10\n",
        "   sum += digit ** 3\n",
        "   temp //= 10\n",
        "if num == sum:\n",
        "   print(num,\"is an Armstrong number\")\n",
        "else:\n",
        "   print(num,\"is not an Armstrong number\")\n",
        "\n"
      ],
      "metadata": {
        "colab": {
          "base_uri": "https://localhost:8080/"
        },
        "id": "_9AcEs-Gumak",
        "outputId": "1e38eb34-bad9-4e0b-9181-ffd459a5a6c9"
      },
      "execution_count": null,
      "outputs": [
        {
          "output_type": "stream",
          "name": "stdout",
          "text": [
            "Enter a number: 559\n",
            "559 is not an Armstrong number\n"
          ]
        }
      ]
    },
    {
      "cell_type": "code",
      "source": [
        "#Q5)Write a python program to find Armstrong number in an interval?\n",
        "\n",
        "lower = 100\n",
        "upper = 1000\n",
        "for num in range(lower , upper + 1):\n",
        "  order = len(str(num))\n",
        "  sum= 0\n",
        "\n",
        "  temp = num\n",
        "  while temp > 0:\n",
        "       digit = temp % 10\n",
        "       sum += digit ** order\n",
        "       temp //= 10\n",
        "  if num == sum:\n",
        "       print(num)\n",
        "\n",
        "\n",
        "\n"
      ],
      "metadata": {
        "id": "sTrn7bVfw9f9",
        "colab": {
          "base_uri": "https://localhost:8080/"
        },
        "outputId": "192de660-f66e-4609-d743-5f149a8976d9"
      },
      "execution_count": null,
      "outputs": [
        {
          "output_type": "stream",
          "name": "stdout",
          "text": [
            "153\n",
            "370\n",
            "371\n",
            "407\n"
          ]
        }
      ]
    },
    {
      "cell_type": "code",
      "source": [
        "#Q6)Write a python program to find the sum of Natural numbers?\n",
        "\n",
        "num = 17\n",
        "if num < 0:\n",
        "   print(\"Enter a positive number\")\n",
        "else:\n",
        "   sum = 0\n",
        "   while(num > 0):\n",
        "       sum += num\n",
        "       num -= 1\n",
        "\n",
        "   print(\"The sum is\", sum)\n",
        "\n",
        "\n"
      ],
      "metadata": {
        "colab": {
          "base_uri": "https://localhost:8080/"
        },
        "id": "6KC-5y0tTQFS",
        "outputId": "0b2cab4e-f055-4dc7-992b-b19f8f558407"
      },
      "execution_count": null,
      "outputs": [
        {
          "output_type": "stream",
          "name": "stdout",
          "text": [
            "The sum is 153\n"
          ]
        }
      ]
    },
    {
      "cell_type": "markdown",
      "source": [
        "Section E"
      ],
      "metadata": {
        "id": "cVBNOO4Si6pj"
      }
    },
    {
      "cell_type": "code",
      "source": [
        "#Q1)Write a python program to find sum of array?\n",
        "\n",
        "arr = [2,3,4,5,9]\n",
        "for i in arr:\n",
        "  sum = i\n",
        "print(sum)\n"
      ],
      "metadata": {
        "id": "b796WZRbi9aq",
        "outputId": "391d3077-5ac0-4ca7-b2c7-8da7cb4cf7c5",
        "colab": {
          "base_uri": "https://localhost:8080/"
        }
      },
      "execution_count": null,
      "outputs": [
        {
          "output_type": "stream",
          "name": "stdout",
          "text": [
            "9\n"
          ]
        }
      ]
    },
    {
      "cell_type": "code",
      "source": [
        "#Q2)Write a python program to find largest element in an array?\n",
        "\n",
        "arr = [4 , 6, 7, 8, 9, 18]\n",
        "lar=0\n",
        "for i in range(len(arr)):\n",
        "  if arr[i] > lar:\n",
        "    lar = arr[i]\n",
        "print(lar)"
      ],
      "metadata": {
        "id": "sg3GKYkxj4jD",
        "outputId": "c42860df-c3a7-4b1b-8546-38e83b70ae41",
        "colab": {
          "base_uri": "https://localhost:8080/"
        }
      },
      "execution_count": null,
      "outputs": [
        {
          "output_type": "stream",
          "name": "stdout",
          "text": [
            "18\n"
          ]
        }
      ]
    },
    {
      "cell_type": "code",
      "source": [
        "#Q3)Write a python program to find array rotation?\n",
        "\n",
        "def rotateArray(a,d):\n",
        "  temp = []\n",
        "  n=len(a)\n",
        "  for i in range(d,n):\n",
        "    temp.append(a[i])\n",
        "  i=0\n",
        "  for i in range (0,d):\n",
        "    temp.append(a[i])\n",
        "  a=temp.copy()\n",
        "  return a\n",
        "\n",
        "arr = [1,2,3,4,5,6,7]\n",
        "print(\"Array after left rotation is: \",end='')\n",
        "print(rotateArray(arr,2))\n"
      ],
      "metadata": {
        "id": "zXrg6DYLkaUo",
        "outputId": "38ed4ef8-794b-45dc-e248-6ef0d28a3283",
        "colab": {
          "base_uri": "https://localhost:8080/"
        }
      },
      "execution_count": null,
      "outputs": [
        {
          "output_type": "stream",
          "name": "stdout",
          "text": [
            "Array after left rotation is: [3, 4, 5, 6, 7, 1, 2]\n"
          ]
        }
      ]
    },
    {
      "cell_type": "code",
      "source": [
        "#Q4)Write a python program to split the array and add the first part of the end?\n",
        "\n",
        "def splitArr(arr,n,k):\n",
        "  for i in range(0,k):\n",
        "    x = arr[0]\n",
        "    for j in range(0 , n-1):\n",
        "      arr[j] = arr[j+1]\n",
        "\n",
        "      arr[n-1] = x\n",
        "arr = [3, 4, 14, 16, 18, 22]\n",
        "n = len(arr)\n",
        "position=2\n",
        "\n",
        "splitArr(arr ,n , position)\n",
        "\n",
        "for i in range(0 , n):\n",
        "  print(arr[i] ,end= ' ')"
      ],
      "metadata": {
        "id": "DzA-wW7Lvtjd",
        "outputId": "38ef74cb-fd59-4e17-b578-048eb692a3be",
        "colab": {
          "base_uri": "https://localhost:8080/"
        }
      },
      "execution_count": null,
      "outputs": [
        {
          "output_type": "stream",
          "name": "stdout",
          "text": [
            "14 16 18 3 4 4 "
          ]
        }
      ]
    },
    {
      "cell_type": "markdown",
      "source": [
        "Section F\n"
      ],
      "metadata": {
        "id": "eiZ9pT1I1CM4"
      }
    },
    {
      "cell_type": "code",
      "source": [
        "#Q1)Write a Python program to find sum of elements in list? \n",
        "\n",
        "a = 0\n",
        "list1 = [7, 14, 6, 19, 23] \n",
        "for ele in range(0, len(list1)): \n",
        "  a = a + list1[ele] \n",
        "  print(\"Sum of all elements in given list: \",a ) \n"
      ],
      "metadata": {
        "id": "5UZaEMpr2Mk8",
        "outputId": "0ed69e02-17af-4323-f79f-fe7ce5e6e1c6",
        "colab": {
          "base_uri": "https://localhost:8080/"
        }
      },
      "execution_count": null,
      "outputs": [
        {
          "output_type": "stream",
          "name": "stdout",
          "text": [
            "Sum of all elements in given list:  7\n",
            "Sum of all elements in given list:  21\n",
            "Sum of all elements in given list:  27\n",
            "Sum of all elements in given list:  46\n",
            "Sum of all elements in given list:  69\n"
          ]
        }
      ]
    },
    {
      "cell_type": "code",
      "source": [
        "#Q2)Write a Python program to Multiply all numbers in the list? \n",
        "\n",
        "def multiplyList(myList) : \n",
        "  result = 1\n",
        "  for x in myList: \n",
        "    result = result * x\n",
        "  return result \n",
        "list1 = [20, 16, 55] \n",
        "list2 = [44, 37, 56] \n",
        "print(multiplyList(list1)) \n",
        "print(multiplyList(list2)) \n"
      ],
      "metadata": {
        "id": "yarMd0IP2wNZ",
        "outputId": "5dae2429-296e-49ec-9d6e-28b79b2fb00d",
        "colab": {
          "base_uri": "https://localhost:8080/"
        }
      },
      "execution_count": null,
      "outputs": [
        {
          "output_type": "stream",
          "name": "stdout",
          "text": [
            "17600\n",
            "91168\n"
          ]
        }
      ]
    },
    {
      "cell_type": "code",
      "source": [
        "#Q3)Write a Python program to find smallest number in a list? \n",
        "\n",
        "l = [140, 290, 233, 41, 69] \n",
        "l.sort() \n",
        "print(\"Smallest element is:\", *l[:1]) "
      ],
      "metadata": {
        "id": "Yb8DOkHj3V8O",
        "outputId": "50e6ceaa-00e3-4aa4-cc77-862edcebd3ba",
        "colab": {
          "base_uri": "https://localhost:8080/"
        }
      },
      "execution_count": null,
      "outputs": [
        {
          "output_type": "stream",
          "name": "stdout",
          "text": [
            "Smallest element is: 41\n"
          ]
        }
      ]
    },
    {
      "cell_type": "code",
      "source": [
        "#Q4)Write a Python program to find largest number in a list? \n",
        "\n",
        "list = [199, 25, 784, 15, 779] \n",
        "print(\"Largest element is:\", max(list)) "
      ],
      "metadata": {
        "id": "FZ62Uc894X6Y",
        "outputId": "8360e3cd-082b-4596-a0b2-762e8a4cef9a",
        "colab": {
          "base_uri": "https://localhost:8080/"
        }
      },
      "execution_count": null,
      "outputs": [
        {
          "output_type": "stream",
          "name": "stdout",
          "text": [
            "Largest element is: 784\n"
          ]
        }
      ]
    },
    {
      "cell_type": "code",
      "source": [
        "#Q6)Write a Python program to find N largest elements from a list? \n",
        "\n",
        "def Nmaxelements(list, N):\n",
        "  final_list = [] \n",
        "  \n",
        "  for i in range(0, N): \n",
        "    max1 = 0 \n",
        "    \n",
        "    for j in range(len(list)): \n",
        "      if list[j] > max1: \n",
        "        max1 = list[j]; \n",
        "\n",
        "    list.remove(max1); \n",
        "    final_list.append(max1) \n",
        "\n",
        "  print(final_list) \n",
        "list = [23,44,55,65,76,89,33,85] \n",
        "N = 2 \n",
        "Nmaxelements(list, N)\n"
      ],
      "metadata": {
        "id": "112da7UC6TLS",
        "outputId": "4bdbdf9e-3ad4-4c83-ad00-1267765af88a",
        "colab": {
          "base_uri": "https://localhost:8080/"
        }
      },
      "execution_count": null,
      "outputs": [
        {
          "output_type": "stream",
          "name": "stdout",
          "text": [
            "[89, 85]\n"
          ]
        }
      ]
    },
    {
      "cell_type": "code",
      "source": [
        "#Q7)Write a Python program to print even numbers in a list? \n",
        "\n",
        "list = [14,55,32,456,67,89] \n",
        "num = 0 \n",
        "while(num < len(list)): \n",
        "  if list[num] % 2 == 0: \n",
        "   print(list[num], end=\" \")  \n",
        "  num += 1 \n"
      ],
      "metadata": {
        "id": "ut2YXmKx9ANy",
        "outputId": "a793400b-df97-4cc3-ef7d-6c9de1163514",
        "colab": {
          "base_uri": "https://localhost:8080/"
        }
      },
      "execution_count": null,
      "outputs": [
        {
          "output_type": "stream",
          "name": "stdout",
          "text": [
            "14 32 456 "
          ]
        }
      ]
    },
    {
      "cell_type": "code",
      "source": [
        "#Q8)Write a Python program to print odd numbers in a List? \n",
        "\n",
        "\n",
        "list = [2,5,66,75,43,89] \n",
        "for num in list: \n",
        "  \n",
        "  if num % 2 != 0: \n",
        "   print(num, end = \" \") \n"
      ],
      "metadata": {
        "id": "SNCDD2hr9n1M",
        "outputId": "ab7fa93b-daa4-441d-9118-5e4ee8fef511",
        "colab": {
          "base_uri": "https://localhost:8080/"
        }
      },
      "execution_count": null,
      "outputs": [
        {
          "output_type": "stream",
          "name": "stdout",
          "text": [
            "5 75 43 89 "
          ]
        }
      ]
    },
    {
      "cell_type": "code",
      "source": [],
      "metadata": {
        "id": "IhEiJEpd-dsu"
      },
      "execution_count": null,
      "outputs": []
    }
  ]
}